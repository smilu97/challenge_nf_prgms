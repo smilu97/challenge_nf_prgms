{
 "cells": [
  {
   "cell_type": "code",
   "execution_count": 36,
   "metadata": {},
   "outputs": [],
   "source": [
    "import numpy as np\n",
    "import pandas as pd"
   ]
  },
  {
   "cell_type": "code",
   "execution_count": 37,
   "metadata": {},
   "outputs": [],
   "source": [
    "train = pd.read_csv('./train.csv')\n",
    "user_tags = pd.read_csv('./user_tags.csv')\n",
    "job_tags = pd.read_csv('./job_tags.csv')\n",
    "tags = pd.read_csv('./tags.csv')\n",
    "test_job = pd.read_csv('../test_job.csv')"
   ]
  },
  {
   "cell_type": "code",
   "execution_count": 38,
   "metadata": {},
   "outputs": [],
   "source": [
    "user_ids = np.array(list(user_tags['userID']) + list(train['userID']))\n",
    "user_ids = np.unique(user_ids)\n",
    "uid_idx = {}\n",
    "for idx, id in enumerate(user_ids):\n",
    "    uid_idx[id] = idx"
   ]
  },
  {
   "cell_type": "code",
   "execution_count": 39,
   "metadata": {},
   "outputs": [],
   "source": [
    "job_ids = np.array(list(job_tags['jobID']) + list(train['jobID']))\n",
    "job_ids = np.unique(job_ids)\n",
    "jid_idx = {}\n",
    "for idx, id in enumerate(job_ids):\n",
    "    jid_idx[id] = idx"
   ]
  },
  {
   "cell_type": "code",
   "execution_count": 40,
   "metadata": {},
   "outputs": [],
   "source": [
    "ratings = [list() for _ in range(user_ids.shape[0])]\n",
    "for idx, row in train.iterrows():\n",
    "    uidx = uid_idx[row[0]]\n",
    "    jidx = jid_idx[row[1]]\n",
    "    ratings[uidx].append((jidx, row[2]))"
   ]
  },
  {
   "cell_type": "code",
   "execution_count": 41,
   "metadata": {},
   "outputs": [],
   "source": [
    "tag_jobs = {}\n",
    "for idx, row in job_tags.iterrows():\n",
    "    jidx = jid_idx[row[0]]\n",
    "    if tag_jobs.get(row[1]) is None:\n",
    "        tag_jobs[row[1]] = []\n",
    "    tag_jobs[row[1]].append(jidx)"
   ]
  },
  {
   "cell_type": "code",
   "execution_count": 42,
   "metadata": {},
   "outputs": [],
   "source": [
    "user_jobs = [list() for _ in range(user_ids.shape[0])]\n",
    "for idx, row in user_tags.iterrows():\n",
    "    uidx = uid_idx[row[0]]\n",
    "    jobs = tag_jobs.get(row[1], [])\n",
    "    for job in jobs:\n",
    "        user_jobs[uidx].append(job)\n",
    "for i in range(user_ids.shape[0]):\n",
    "    user_jobs[i] = list(np.unique(np.array(user_jobs[i])))"
   ]
  },
  {
   "cell_type": "code",
   "execution_count": 43,
   "metadata": {},
   "outputs": [],
   "source": [
    "fd = open('./data.dat', 'w')\n",
    "fd.write('{} {}\\n'.format(user_ids.shape[0], job_ids.shape[0]))\n",
    "for rts in ratings:\n",
    "    fd.write(str(len(rts)) + ' ')\n",
    "    for rt in rts:\n",
    "        fd.write('{} {} '.format(rt[0], rt[1]))\n",
    "    fd.write('\\n')\n",
    "for ujs in user_jobs:\n",
    "    fd.write(str(len(ujs)) + ' ')\n",
    "    for uj in ujs:\n",
    "        fd.write(str(uj) + ' ')\n",
    "    fd.write('\\n')\n",
    "fd.close()"
   ]
  },
  {
   "cell_type": "code",
   "execution_count": 44,
   "metadata": {},
   "outputs": [],
   "source": [
    "jobs = []\n",
    "for idx, row in test_job.iterrows():\n",
    "    uidx = uid_idx[row[0]]\n",
    "    jidx = jid_idx[row[1]]\n",
    "    jobs.append((uidx, jidx))"
   ]
  },
  {
   "cell_type": "code",
   "execution_count": 45,
   "metadata": {},
   "outputs": [],
   "source": [
    "fd = open('./test.dat', 'w')\n",
    "fd.write('{}\\n'.format(len(jobs)))\n",
    "for t in jobs:\n",
    "    fd.write('{} {}\\n'.format(t[0], t[1]))\n",
    "fd.close()"
   ]
  },
  {
   "cell_type": "code",
   "execution_count": null,
   "metadata": {},
   "outputs": [],
   "source": []
  }
 ],
 "metadata": {
  "kernelspec": {
   "display_name": "Python 3",
   "language": "python",
   "name": "python3"
  },
  "language_info": {
   "codemirror_mode": {
    "name": "ipython",
    "version": 3
   },
   "file_extension": ".py",
   "mimetype": "text/x-python",
   "name": "python",
   "nbconvert_exporter": "python",
   "pygments_lexer": "ipython3",
   "version": "3.8.5"
  }
 },
 "nbformat": 4,
 "nbformat_minor": 4
}
